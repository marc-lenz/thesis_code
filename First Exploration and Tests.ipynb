{
 "cells": [
  {
   "cell_type": "markdown",
   "metadata": {},
   "source": [
    "# First Exploration and Tests\n",
    "\n",
    "This Notebook is a part of the Thesis Project: Learning Multilingual Document Representations.\n",
    "\n",
    "It serves the purpose of exploring samples of the relevant Datasets and testing some basic algorithms. \n",
    "\n",
    "So far it contains:\n",
    "\n",
    "- Loading and Preprocessing Data of JRQ-Arquis (Sample, English-French)\n",
    "- Traning some baseline document embeddings using gensim\n",
    "- Implementing a basic Concept approximation function, which maps document representations from one language to another\n"
   ]
  },
  {
   "cell_type": "markdown",
   "metadata": {},
   "source": [
    "##  1. Loading and preprocessing of the Dataset"
   ]
  },
  {
   "cell_type": "markdown",
   "metadata": {},
   "source": [
    "Load file, transform the XML into a usable format in this context"
   ]
  },
  {
   "cell_type": "code",
   "execution_count": 1,
   "metadata": {},
   "outputs": [],
   "source": [
    "from Utils import extract_docs_from_jrq_xml\n",
    "import xml.etree.ElementTree as ET\n",
    "\n",
    "\n",
    "# parse an xml file by name\n",
    "tree = ET.parse('Data/sample_jrc-en-fr.xml')\n",
    "documents = extract_docs_from_jrq_xml(tree, align=\"documents\")\n"
   ]
  },
  {
   "cell_type": "markdown",
   "metadata": {},
   "source": [
    "Since we want to train models and do some parameter selection later on, it makes sense to split the dataset into a training and test dataset. From now on, we will apply all methods only to the training dataset. Later on, we will use the test dataset to evaluate the performance of the learned functions. "
   ]
  },
  {
   "cell_type": "code",
   "execution_count": 2,
   "metadata": {},
   "outputs": [],
   "source": [
    "from sklearn.model_selection import train_test_split\n",
    "documents, test_documents = train_test_split(documents, test_size=0.25, random_state=42)"
   ]
  },
  {
   "cell_type": "markdown",
   "metadata": {},
   "source": [
    "Lets take a look: "
   ]
  },
  {
   "cell_type": "code",
   "execution_count": 3,
   "metadata": {},
   "outputs": [
    {
     "name": "stdout",
     "output_type": "stream",
     "text": [
      "dict_keys(['english', 'french'])\n",
      "EUROPEAN AGREEMENT ON THE EXCHANGE OF TISSUE-TYPING REAGENTSTHE MEMBER STATES OF THE COUNCIL OF EURO\n",
      "LES ETATS SIGNATAIRES DU PRESENT ACCORD , MEMBRES DU CONSEIL DE L'EUROPE ,considérant que les réacti\n"
     ]
    }
   ],
   "source": [
    "#show whats in there\n",
    "print(documents[1].keys())\n",
    "print(documents[1][\"english\"][:100])\n",
    "print(documents[1][\"french\"][:100])"
   ]
  },
  {
   "cell_type": "markdown",
   "metadata": {},
   "source": [
    "-> Preprocessing: Tokenization, lemmatization"
   ]
  },
  {
   "cell_type": "code",
   "execution_count": 4,
   "metadata": {},
   "outputs": [],
   "source": [
    "from Preprocessor import Preprocessor\n",
    "#Recources needed, uncomment if needed/error   \n",
    "#nltk.download('punkt')\n",
    "#nltk.download('wordnet')\n",
    "\n",
    "# Make sure no empty documents are passed, filter those\n",
    "filtered_docs = []\n",
    "for doc in documents:\n",
    "    if len(doc[\"english\"]) > 0 and len(doc[\"french\"]) > 0:\n",
    "        filtered_docs.append(doc)\n",
    "        \n",
    "#preprocessing, text -> tokenized and stemmed/lemmatized words       \n",
    "preprocessor_english = Preprocessor(language=\"en\")\n",
    "preprocessor_french = Preprocessor(language=\"fr\")\n",
    "\n",
    "french_docs_preprocessed = [preprocessor_french.preprocess(doc[\"french\"]) for doc in filtered_docs]\n",
    "english_docs_preprocessed = [preprocessor_english.preprocess(doc[\"english\"]) for doc in filtered_docs]\n"
   ]
  },
  {
   "cell_type": "markdown",
   "metadata": {},
   "source": [
    "Take a look at a snippet of the preprocessed documents: "
   ]
  },
  {
   "cell_type": "code",
   "execution_count": 5,
   "metadata": {},
   "outputs": [
    {
     "name": "stdout",
     "output_type": "stream",
     "text": [
      "['desir', 'de', 'facilit', 'le', 'transport', 'international', 'de', 'marchandis', 'par', 'v']\n",
      "['custom', 'convention', 'on', 'the', 'international', 'transport', 'of', 'good', 'under', 'cover']\n"
     ]
    }
   ],
   "source": [
    "print(french_docs_preprocessed[1][:10])\n",
    "print(english_docs_preprocessed[1][:10])"
   ]
  },
  {
   "cell_type": "markdown",
   "metadata": {},
   "source": [
    "## 2.Training of the Monlingual Representations"
   ]
  },
  {
   "cell_type": "markdown",
   "metadata": {},
   "source": [
    "The first step is to prepare the data: "
   ]
  },
  {
   "cell_type": "code",
   "execution_count": 6,
   "metadata": {},
   "outputs": [],
   "source": [
    "from Utils import create_corpus\n",
    "     \n",
    "french_dictionary, french_corpus = create_corpus(french_docs_preprocessed)\n",
    "english_dictionary, english_corpus = create_corpus(english_docs_preprocessed)"
   ]
  },
  {
   "cell_type": "code",
   "execution_count": 7,
   "metadata": {},
   "outputs": [
    {
     "name": "stdout",
     "output_type": "stream",
     "text": [
      "Dictionary(1225 unique tokens: ['10', '101', '11', '111', '2']...)\n",
      "Example BOW Representation:\n",
      "[(0, 1), (1, 1), (2, 2), (3, 1), (4, 9), (5, 1), (6, 4), (7, 1), (8, 4), (9, 1)]\n",
      "...\n"
     ]
    }
   ],
   "source": [
    "print(french_dictionary)\n",
    "print(\"Example BOW Representation:\")\n",
    "print(french_corpus[0][:10])\n",
    "print(\"...\")"
   ]
  },
  {
   "cell_type": "markdown",
   "metadata": {},
   "source": [
    "Now Prepare Monolingual Representations: "
   ]
  },
  {
   "cell_type": "code",
   "execution_count": 8,
   "metadata": {},
   "outputs": [],
   "source": [
    "from gensim import models\n",
    "\n",
    "french_tfidf = models.TfidfModel(french_corpus)\n",
    "french_corpus_tfidf = french_tfidf[french_corpus]\n",
    "\n",
    "english_tfidf = models.TfidfModel(english_corpus)\n",
    "english_corpus_tfidf = english_tfidf[english_corpus]\n",
    "\n",
    "\n",
    "french_lsi_model = models.LsiModel(french_corpus_tfidf, \n",
    "                            id2word=french_dictionary, \n",
    "                            num_topics=12)  \n",
    "\n",
    "english_lsi_model = models.LsiModel(english_corpus_tfidf, \n",
    "                            id2word=english_dictionary, \n",
    "                            num_topics=12) "
   ]
  },
  {
   "cell_type": "markdown",
   "metadata": {},
   "source": [
    "-> Example of Topic Representation"
   ]
  },
  {
   "cell_type": "code",
   "execution_count": 9,
   "metadata": {},
   "outputs": [
    {
     "data": {
      "text/plain": [
       "[(0, -0.412284474690649),\n",
       " (1, -0.8934395936123091),\n",
       " (2, 0.002979588799599836),\n",
       " (3, 0.03563567422495872),\n",
       " (4, 0.06258526905485748),\n",
       " (5, 0.1136560857361848),\n",
       " (6, -0.016277102913936508),\n",
       " (7, 0.011661097382099623),\n",
       " (8, 0.011929362311448198),\n",
       " (9, 0.006625283858239668),\n",
       " (10, 0.007710962781016675),\n",
       " (11, 0.015893974577204012)]"
      ]
     },
     "execution_count": 9,
     "metadata": {},
     "output_type": "execute_result"
    }
   ],
   "source": [
    "english_lsi_model[english_corpus_tfidf[2]]"
   ]
  },
  {
   "cell_type": "markdown",
   "metadata": {},
   "source": [
    "# 3. Linear Concept Approximation\n",
    "- The goal is to find a mapping $\\phi : C_{X} \\rightarrow{C_{Y}}$ \n",
    "- Therefore it is more convenient to have vector and matrix represenations using numpy"
   ]
  },
  {
   "cell_type": "code",
   "execution_count": 10,
   "metadata": {},
   "outputs": [],
   "source": [
    "import numpy as np\n",
    "#Convert the Tuple representations into Numpy vectors\n",
    "english_lsi_vec = english_lsi_model[list(english_corpus_tfidf)]\n",
    "english_lsi_vec = list(english_lsi_vec)\n",
    "english_lsi_vecs = []\n",
    "for tupel_list in english_lsi_vec:\n",
    "    vec_rep = list(zip(*tupel_list))\n",
    "    english_lsi_vecs.append(np.array(vec_rep[1]))\n",
    "\n",
    "french_lsi_vec = french_lsi_model[list(french_corpus_tfidf)]\n",
    "french_lsi_vec = list(french_lsi_vec)\n",
    "french_lsi_vecs = []\n",
    "for tupel_list in french_lsi_vec:\n",
    "    vec_rep = list(zip(*tupel_list))\n",
    "    french_lsi_vecs.append(np.array(vec_rep[1]))"
   ]
  },
  {
   "cell_type": "code",
   "execution_count": 11,
   "metadata": {},
   "outputs": [
    {
     "name": "stdout",
     "output_type": "stream",
     "text": [
      "Concept Vector of the first English document:\n",
      "[-0.39576543  0.09476488 -0.01398168 -0.07049837 -0.41842655  0.0268391\n",
      " -0.14419617  0.08294239  0.08113263  0.19187567 -0.07752568  0.49057364]\n",
      "\n",
      "Concept Vector of the first French document:\n",
      "[ 0.34202379 -0.1524672   0.08218174 -0.45429385  0.21138247 -0.06598088\n",
      "  0.05549651  0.01986367 -0.24841183 -0.13086443 -0.17680713  0.20631789]\n"
     ]
    }
   ],
   "source": [
    "print(\"Concept Vector of the first English document:\")\n",
    "print(str(english_lsi_vecs[0])+\"\\n\")\n",
    "print(\"Concept Vector of the first French document:\")\n",
    "print(french_lsi_vecs[0])"
   ]
  },
  {
   "cell_type": "markdown",
   "metadata": {},
   "source": [
    "Now, in order to find the mapping $\\phi$, we can set an objective for the function, we will use linear least squares with $min_{\\phi\\in \\mathbb{R}^{m\\times m}}||\\phi(C_{x})-C_{y}||^{2}_{2}$"
   ]
  },
  {
   "cell_type": "code",
   "execution_count": 12,
   "metadata": {},
   "outputs": [
    {
     "data": {
      "text/plain": [
       "LinearRegression(copy_X=True, fit_intercept=True, n_jobs=None, normalize=False)"
      ]
     },
     "execution_count": 12,
     "metadata": {},
     "output_type": "execute_result"
    }
   ],
   "source": [
    "from sklearn import linear_model\n",
    "from sklearn.metrics.pairwise import cosine_similarity\n",
    "fr_to_en_clf = linear_model.LinearRegression()\n",
    "en_to_fr_clf = linear_model.LinearRegression()\n",
    "\n",
    "en_to_fr_clf.fit(english_lsi_vecs, french_lsi_vecs)\n",
    "fr_to_en_clf.fit(french_lsi_vecs, english_lsi_vecs)"
   ]
  },
  {
   "cell_type": "markdown",
   "metadata": {},
   "source": [
    "So now we have obtained $\\phi_{en\\rightarrow fr}, \\phi_{fr\\rightarrow en}$ which provide us with mappings between the two different concept spaces of French and English Documents. What we would like to know now is how useful those functions actually are. "
   ]
  },
  {
   "cell_type": "markdown",
   "metadata": {},
   "source": [
    "## 4. Evaluation"
   ]
  },
  {
   "cell_type": "code",
   "execution_count": 13,
   "metadata": {},
   "outputs": [
    {
     "name": "stdout",
     "output_type": "stream",
     "text": [
      "Number of Documents: 5\n"
     ]
    }
   ],
   "source": [
    "filtered_test_docs = []\n",
    "for doc in test_documents:\n",
    "    if len(doc[\"english\"]) > 0 and len(doc[\"french\"]) > 0:\n",
    "        filtered_test_docs.append(doc)\n",
    "        \n",
    "fr_test_docs_preprocessed = [preprocessor_french.preprocess(doc[\"french\"]) for doc in filtered_test_docs]\n",
    "en_test_docs_preprocessed = [preprocessor_english.preprocess(doc[\"english\"]) for doc in filtered_test_docs]\n",
    "\n",
    "print(\"Number of Documents: \" +str(len(fr_test_docs_preprocessed)))"
   ]
  },
  {
   "cell_type": "code",
   "execution_count": 14,
   "metadata": {},
   "outputs": [],
   "source": [
    "french_vecs = []\n",
    "for doc in fr_test_docs_preprocessed:\n",
    "    vec_bow = french_dictionary.doc2bow(doc)\n",
    "    bow_tfidf = french_tfidf[vec_bow]\n",
    "    vec_lsi = french_lsi_model[bow_tfidf]  \n",
    "    vec_rep = np.asarray(list(zip(*vec_lsi))[1])\n",
    "    french_vecs.append(vec_rep)\n",
    "    \n",
    "english_vecs = []\n",
    "for doc in en_test_docs_preprocessed:\n",
    "    vec_bow = english_dictionary.doc2bow(doc)\n",
    "    bow_tfidf = english_tfidf[vec_bow]\n",
    "    vec_lsi = english_lsi_model[bow_tfidf]  \n",
    "    vec_rep = np.asarray(list(zip(*vec_lsi))[1])\n",
    "    english_vecs.append(vec_rep)"
   ]
  },
  {
   "cell_type": "code",
   "execution_count": 15,
   "metadata": {},
   "outputs": [],
   "source": [
    "trans_french_vecs = en_to_fr_clf.predict(english_vecs)\n",
    "trans_english_vecs = fr_to_en_clf.predict(french_vecs)"
   ]
  },
  {
   "cell_type": "code",
   "execution_count": 16,
   "metadata": {},
   "outputs": [],
   "source": [
    "from sklearn.metrics.pairwise import cosine_similarity\n",
    "\n",
    "en_en_sim_matrix = cosine_similarity(english_vecs, english_vecs)\n",
    "fr_fr_sim_matrix = cosine_similarity(french_vecs, french_vecs)\n",
    "\n",
    "entofr_fr_sim_matrix = cosine_similarity(french_vecs, trans_french_vecs)\n",
    "frtoen_en_sim_matrix = cosine_similarity(english_vecs, trans_english_vecs)"
   ]
  },
  {
   "cell_type": "code",
   "execution_count": 17,
   "metadata": {
    "scrolled": true
   },
   "outputs": [
    {
     "data": {
      "image/png": "[encoded data removed]",
      "text/plain": [
       "<Figure size 432x288 with 2 Axes>"
      ]
     },
     "metadata": {
      "needs_background": "light"
     },
     "output_type": "display_data"
    },
    {
     "data": {
      "image/png": "[encoded data removed]",
      "text/plain": [
       "<Figure size 432x288 with 2 Axes>"
      ]
     },
     "metadata": {
      "needs_background": "light"
     },
     "output_type": "display_data"
    },
    {
     "data": {
      "image/png": "[encoded data removed]",
      "text/plain": [
       "<Figure size 432x288 with 2 Axes>"
      ]
     },
     "metadata": {
      "needs_background": "light"
     },
     "output_type": "display_data"
    },
    {
     "data": {
      "image/png": "[encoded data removed]",
      "text/plain": [
       "<Figure size 432x288 with 2 Axes>"
      ]
     },
     "metadata": {
      "needs_background": "light"
     },
     "output_type": "display_data"
    }
   ],
   "source": [
    "import seaborn as sns\n",
    "import matplotlib.pylab as plt\n",
    "\n",
    "\n",
    "\n",
    "ax = sns.heatmap(en_en_sim_matrix, linewidth=0.5)\n",
    "plt.show()\n",
    "\n",
    "ax = sns.heatmap(frtoen_en_sim_matrix, linewidth=0.5)\n",
    "plt.show()\n",
    "\n",
    "ax = sns.heatmap(fr_fr_sim_matrix, linewidth=0.5)\n",
    "plt.show()\n",
    "\n",
    "ax = sns.heatmap(entofr_fr_sim_matrix, linewidth=0.5)\n",
    "plt.show()\n"
   ]
  },
  {
   "cell_type": "code",
   "execution_count": null,
   "metadata": {},
   "outputs": [],
   "source": []
  }
 ],
 "metadata": {
  "kernelspec": {
   "display_name": "Python 3",
   "language": "python",
   "name": "python3"
  },
  "language_info": {
   "codemirror_mode": {
    "name": "ipython",
    "version": 3
   },
   "file_extension": ".py",
   "mimetype": "text/x-python",
   "name": "python",
   "nbconvert_exporter": "python",
   "pygments_lexer": "ipython3",
   "version": "3.7.6"
  }
 },
 "nbformat": 4,
 "nbformat_minor": 4
}
