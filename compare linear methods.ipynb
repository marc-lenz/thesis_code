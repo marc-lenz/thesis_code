{
 "cells": [
  {
   "cell_type": "markdown",
   "metadata": {},
   "source": [
    "# An Alternative method to LCA - Linear Concept Compression\n",
    "\n",
    "This Notebook is a part of the Thesis Project: Learning Multilingual Document Representations.\n",
    "(Marc Lenz, 2021)\n",
    "\n",
    "\n",
    "** **"
   ]
  },
  {
   "cell_type": "markdown",
   "metadata": {},
   "source": [
    "## Motivation\n",
    "\n",
    "\n",
    "\n",
    "**Linear Concept approximation - Recap**\n",
    "\n",
    "In linear concept approximation the initial input are is a bilingual set of low-dimensional document representations. \n",
    "Those are obtained before by applying a k-truncated Singular Value Decomposition to the (weighted) Bag-of-Words vectors. \n",
    "\n",
    "These low-dimensional representations should be called concept-representations. For our given bilingual set of documents, we will denote the concept-vector Matrices of two languages $L_{x}, L_{y}$ with $C_{x}, C_{y}$. The columns of those matrices are the concept-representations of a document. In Linear concept approximation the idea is now that the represented concepts are quite similar. However, we cant compare the representations directly since they were derived independently from each other and a concept which is encoded in a certain dimension of x might be encoded in another dimension of y. What we might be able to do though is to align them by a linear transformation. In order to obtain this, we want to learn a mappings $\\theta_{1}, \\theta_{2} \\in \\mathbb{R}^{d \\times d}$ such that:\n",
    "\n",
    "$c_{x}(d)\\theta_{1} = c_{y}(d)$ and $c_{y}(d)\\theta_{2} = c_{x}(d)$\n",
    "\n",
    "We do this by minimizing $||C_{x}\\theta-C_{y}||_{2}^{2}$ and $||C_{y}\\theta-C_{x}||_{2}^{2}$ \n",
    "\n",
    "Then we can obtain new, bilingual representations for each document d by\n",
    "extending $c_{x}(d) \\rightarrow [c_{x}(d), c_{x}(d)\\theta_{1}]$ and respectively $c_{y}(d) \\rightarrow [c_{y}(d)\\theta_{1}, c_{y}(d)]$\n",
    "\n",
    "**Initial thought: We create Information Redundancy**\n",
    "\n",
    "- Lets look at the mapping we obtained for a moment. $\\phi (c_{x}(d)) \\rightarrow [c_{x}(d), c_{x}(d)\\theta_{1}]$ , $\\phi : \\mathbb{R}^{d} \\rightarrow \\mathbb{R}^{2d}$. \n",
    "- Even if $Image(\\phi)\\in \\mathbb{R}^{2d}$, it is $Dim(Image(\\phi)) \\leq d$, since $Dim(Image(\\phi)) = Rank(\\phi) = Dim(\\mathbb{R}^{d}) - Nullity(\\phi) = d - Nullity(\\phi)$.\n",
    "\n",
    "- So that the **true dimensionality** of the new representation is still d. \n",
    "\n",
    "\n",
    "\n",
    "\n",
    "\n",
    "## Approach\n",
    "\n",
    "**Idea:**\n",
    "- Find a mappings $\\theta_{1},\\theta_{2}$ such that $c_{x}(d)\\theta_{1} = c_{y}(d)\\theta_{2}$ but preserves information of $c_{x},c_{y}$\n",
    "- The intuition is to find an Encoder-Decoder approach. The purpose of the Encoder is to encode monolingual representations in a language-indepent way. The purpose of the decoder is to reconstruct the monolingual representations of multiple languages from that encoding. \n",
    "\n",
    "Keeping the Encoder and Decoder linear, this could be done via minimizing the following system of linear equations:\n",
    "\n",
    "$\n",
    "\\|\n",
    "\\begin{bmatrix}\n",
    "C_{x} & 0 \\\\\n",
    "0 & C_{y} \n",
    "\\end{bmatrix}\n",
    "\\underbrace{\\begin{bmatrix}\n",
    "E_{x}\\\\\n",
    "E_{y}\n",
    "\\end{bmatrix} }_{\\in \\mathbb{R}^{2d \\times d}}\n",
    "\\underbrace{\\begin{bmatrix}\n",
    "D_{x} & D_{y}\n",
    "\\end{bmatrix}}_{\\in \\mathbb{R}^{d \\times 2d}}\n",
    "-\n",
    "\\begin{bmatrix}\n",
    "C_{x} & C_{x}\\\\\n",
    "C_{y}  & C_{y} \n",
    "\\end{bmatrix}\n",
    "\\|_{2}\n",
    "$\n",
    "$\n",
    "=\n",
    "\\|\n",
    "\\begin{bmatrix}\n",
    "C_{x}E_{x}D_{x} - C_{x} & C_{y}E_{y}D_{x} - C_{x}\\\\\n",
    "C_{y}E_{y}D_{y} - C_{y}  & C_{x}E_{x}D_{y} - C_{y} \n",
    "\\end{bmatrix}\n",
    "\\|_{2}\n",
    "$\n",
    "\n",
    "\n",
    "- Now this is equivalent to minimizing \n",
    "$min_{rg(A)=d}\\|\n",
    "\\begin{bmatrix}\n",
    "C_{x} & 0 \\\\\n",
    "0 & C_{y} \n",
    "\\end{bmatrix} A -\n",
    "\\begin{bmatrix}\n",
    "C_{x} & C_{x}\\\\\n",
    "C_{y}  & C_{y} \n",
    "\\end{bmatrix}\n",
    "\\|_{2}\n",
    "$\n",
    "And then finding a decomposition of A such that $A = ED$\n",
    "\n",
    "\n",
    "**Solving Reduced Rank Regression**\n",
    "\n",
    "The problem we are facing here is reduced rank regression (rrr). If we take a few assumptions for our random variables such as $X \\in \\mathbb{R}^{d} $ and $Y \\in \\mathbb{R}^{d} $ satisfy $E(X) = 0, E(Y ) = 0, E(Y |X) = X\\phi.$, then we can solve it. \n",
    "\n",
    "\n",
    "$ L=\\|\\mathbf Y-\\mathbf X\\mathbf B\\|^2_{rg(B) = d} = \\|\\mathbf Y-\\mathbf X\\hat{\\mathbf B}_\\mathrm{OLS}\\|^2+\\|\\mathbf X\\hat{\\mathbf B}_\\mathrm{OLS}-\\mathbf X\\mathbf B\\|^2_{rg(B) = d}.$\n",
    "\n",
    "Now, B does not have any influence on the left term. For the right term, we can apply the Eckardt-Young Theorem\n",
    "And therefore an optimal solution is given by the d-truncated singular value decomposition of $X\\hat{\\mathbf B}_\\mathrm{OLS}$. \n",
    "Let $X\\hat{\\mathbf B}_\\mathrm{OLS} = U \\Sigma V$. Then $B_{rrr}$ is given by:\n",
    "${\\mathbf B}_\\mathrm{OLS}U^{t}_{d}U_{d}$\n",
    "\n",
    "Finally, we define: \n",
    "$E = {\\mathbf B}_\\mathrm{OLS}U^{t}_{d}$ and $D = U_{d}$\n",
    "\n",
    "\n",
    "**Practical Solution**\n",
    "\n",
    "- compute $\\hat{\\mathbf B}_\\mathrm{OLS} = arg min_\\|\n",
    "\\begin{bmatrix}\n",
    "C_{x} & 0 \\\\\n",
    "0 & C_{y} \n",
    "\\end{bmatrix} A -\n",
    "\\begin{bmatrix}\n",
    "C_{x} & C_{x}\\\\\n",
    "C_{y}  & C_{y} \n",
    "\\end{bmatrix}\n",
    "\\|_{2}$\n",
    "- Compute the SVD $X\\hat{\\mathbf B}_\\mathrm{OLS} = U \\Sigma V$ \n",
    "- Define $E:= \\hat{\\mathbf B}_\\mathrm{OLS}U^{t} $"
   ]
  },
  {
   "cell_type": "markdown",
   "metadata": {},
   "source": [
    "##  1. Create the LSI Models/SVD for Preprocessed Data"
   ]
  },
  {
   "cell_type": "markdown",
   "metadata": {},
   "source": [
    "The original JRC-Arquis dataset have been preprocessed before. \n",
    "The aligned documents have been saved in two seperate csv files. \n",
    "For details of the preprocessing, check: read_and_preprocess.py"
   ]
  },
  {
   "cell_type": "code",
   "execution_count": 1,
   "metadata": {},
   "outputs": [
    {
     "name": "stdout",
     "output_type": "stream",
     "text": [
      "Number of training Documents: 8759\n",
      "Number of test Documents: 974\n"
     ]
    }
   ],
   "source": [
    "from Utils import read_docs\n",
    "from sklearn.model_selection import train_test_split\n",
    "\n",
    "# parse an xml file by name\n",
    "french_docs, english_docs = read_docs('Data/jrq_aligned_10000_fr.csv', 'Data/jrq_aligned_10000_en.csv')\n",
    "fr_docs_train, fr_docs_test, en_docs_train, en_docs_test = train_test_split(french_docs, english_docs, \n",
    "                                                                            test_size=0.1, random_state = 42)\n",
    "\n",
    "print(\"Number of training Documents: \"+ str(len(fr_docs_train)))\n",
    "print(\"Number of test Documents: \"+ str(len(fr_docs_test)))"
   ]
  },
  {
   "cell_type": "code",
   "execution_count": 2,
   "metadata": {},
   "outputs": [],
   "source": [
    "from Utils import Vector_Lsi_Model\n",
    "\n",
    "max_dim = 3000\n",
    "lsi_model_fr = Vector_Lsi_Model(french_docs, dimension = max_dim)\n",
    "lsi_model_en = Vector_Lsi_Model(english_docs, dimension = max_dim)\n",
    "\n"
   ]
  },
  {
   "cell_type": "markdown",
   "metadata": {},
   "source": [
    "## 2. Create Vector Representations"
   ]
  },
  {
   "cell_type": "code",
   "execution_count": 5,
   "metadata": {},
   "outputs": [],
   "source": [
    "import numpy as np\n",
    "env = lsi_model_en.create_embeddings(en_docs_train)\n",
    "frv = lsi_model_fr.create_embeddings(fr_docs_train)\n",
    "envt = lsi_model_en.create_embeddings(en_docs_test)\n",
    "frvt = lsi_model_fr.create_embeddings(fr_docs_test)\n",
    "en_train_matrix = np.asarray(env)\n",
    "fr_train_matrix = np.asarray(frv)\n",
    "en_test_matrix = np.asarray(envt)\n",
    "fr_test_matrix = np.asarray(frvt)"
   ]
  },
  {
   "cell_type": "markdown",
   "metadata": {},
   "source": [
    "## 3.Training of Linear Concept Compression"
   ]
  },
  {
   "cell_type": "code",
   "execution_count": 50,
   "metadata": {},
   "outputs": [
    {
     "name": "stdout",
     "output_type": "stream",
     "text": [
      "fit linear model\n",
      "MSE: 0.00016851533805682735\n",
      "apply PCA\n",
      "0.00018808665778729885\n",
      "fit linear model\n",
      "MSE: 0.00011445796164114899\n",
      "apply PCA\n",
      "0.000128891379683443\n",
      "fit linear model\n",
      "MSE: 8.851441353495792e-05\n",
      "apply PCA\n",
      "9.99457028431838e-05\n",
      "fit linear model\n",
      "MSE: 7.25126860400284e-05\n",
      "apply PCA\n",
      "8.203753110561172e-05\n",
      "fit linear model\n",
      "MSE: 6.10278640992655e-05\n",
      "apply PCA\n",
      "6.911203911790206e-05\n",
      "fit linear model\n"
     ]
    },
    {
     "ename": "MemoryError",
     "evalue": "Unable to allocate 293. MiB for an array with shape (16000, 2400) and data type float64",
     "output_type": "error",
     "traceback": [
      "\u001b[1;31m---------------------------------------------------------------------------\u001b[0m",
      "\u001b[1;31mMemoryError\u001b[0m                               Traceback (most recent call last)",
      "\u001b[1;32m<ipython-input-50-d9d8a5c3182a>\u001b[0m in \u001b[0;36m<module>\u001b[1;34m\u001b[0m\n\u001b[0;32m     26\u001b[0m     \u001b[0mprint\u001b[0m\u001b[1;33m(\u001b[0m\u001b[1;34m\"fit linear model\"\u001b[0m\u001b[1;33m)\u001b[0m\u001b[1;33m\u001b[0m\u001b[1;33m\u001b[0m\u001b[0m\n\u001b[0;32m     27\u001b[0m     \u001b[0mreg\u001b[0m \u001b[1;33m=\u001b[0m \u001b[0mlinear_model\u001b[0m\u001b[1;33m.\u001b[0m\u001b[0mRidgeCV\u001b[0m\u001b[1;33m(\u001b[0m\u001b[0malphas\u001b[0m\u001b[1;33m=\u001b[0m\u001b[1;33m[\u001b[0m\u001b[1;36m1e-3\u001b[0m\u001b[1;33m,\u001b[0m \u001b[1;36m1e-2\u001b[0m\u001b[1;33m,\u001b[0m \u001b[1;36m1e-1\u001b[0m\u001b[1;33m,\u001b[0m \u001b[1;36m1\u001b[0m\u001b[1;33m]\u001b[0m\u001b[1;33m)\u001b[0m\u001b[1;33m\u001b[0m\u001b[1;33m\u001b[0m\u001b[0m\n\u001b[1;32m---> 28\u001b[1;33m     \u001b[0mreg\u001b[0m\u001b[1;33m.\u001b[0m\u001b[0mfit\u001b[0m\u001b[1;33m(\u001b[0m\u001b[0mX\u001b[0m\u001b[1;33m,\u001b[0m\u001b[0mY\u001b[0m\u001b[1;33m)\u001b[0m\u001b[1;33m\u001b[0m\u001b[1;33m\u001b[0m\u001b[0m\n\u001b[0m\u001b[0;32m     29\u001b[0m     \u001b[0mprint\u001b[0m\u001b[1;33m(\u001b[0m\u001b[1;34m\"MSE: \"\u001b[0m\u001b[1;33m+\u001b[0m\u001b[0mstr\u001b[0m\u001b[1;33m(\u001b[0m\u001b[0mmse\u001b[0m\u001b[1;33m(\u001b[0m\u001b[0mreg\u001b[0m\u001b[1;33m.\u001b[0m\u001b[0mpredict\u001b[0m\u001b[1;33m(\u001b[0m\u001b[0mX\u001b[0m\u001b[1;33m)\u001b[0m\u001b[1;33m,\u001b[0m \u001b[0mY\u001b[0m\u001b[1;33m)\u001b[0m\u001b[1;33m)\u001b[0m\u001b[1;33m)\u001b[0m\u001b[1;33m\u001b[0m\u001b[1;33m\u001b[0m\u001b[0m\n\u001b[0;32m     30\u001b[0m     \u001b[0mprint\u001b[0m\u001b[1;33m(\u001b[0m\u001b[1;34m\"apply PCA\"\u001b[0m\u001b[1;33m)\u001b[0m\u001b[1;33m\u001b[0m\u001b[1;33m\u001b[0m\u001b[0m\n",
      "\u001b[1;32m~\\Anaconda3\\lib\\site-packages\\sklearn\\linear_model\\_ridge.py\u001b[0m in \u001b[0;36mfit\u001b[1;34m(self, X, y, sample_weight)\u001b[0m\n\u001b[0;32m   1567\u001b[0m                                   \u001b[0mgcv_mode\u001b[0m\u001b[1;33m=\u001b[0m\u001b[0mself\u001b[0m\u001b[1;33m.\u001b[0m\u001b[0mgcv_mode\u001b[0m\u001b[1;33m,\u001b[0m\u001b[1;33m\u001b[0m\u001b[1;33m\u001b[0m\u001b[0m\n\u001b[0;32m   1568\u001b[0m                                   store_cv_values=self.store_cv_values)\n\u001b[1;32m-> 1569\u001b[1;33m             \u001b[0mestimator\u001b[0m\u001b[1;33m.\u001b[0m\u001b[0mfit\u001b[0m\u001b[1;33m(\u001b[0m\u001b[0mX\u001b[0m\u001b[1;33m,\u001b[0m \u001b[0my\u001b[0m\u001b[1;33m,\u001b[0m \u001b[0msample_weight\u001b[0m\u001b[1;33m=\u001b[0m\u001b[0msample_weight\u001b[0m\u001b[1;33m)\u001b[0m\u001b[1;33m\u001b[0m\u001b[1;33m\u001b[0m\u001b[0m\n\u001b[0m\u001b[0;32m   1570\u001b[0m             \u001b[0mself\u001b[0m\u001b[1;33m.\u001b[0m\u001b[0malpha_\u001b[0m \u001b[1;33m=\u001b[0m \u001b[0mestimator\u001b[0m\u001b[1;33m.\u001b[0m\u001b[0malpha_\u001b[0m\u001b[1;33m\u001b[0m\u001b[1;33m\u001b[0m\u001b[0m\n\u001b[0;32m   1571\u001b[0m             \u001b[1;32mif\u001b[0m \u001b[0mself\u001b[0m\u001b[1;33m.\u001b[0m\u001b[0mstore_cv_values\u001b[0m\u001b[1;33m:\u001b[0m\u001b[1;33m\u001b[0m\u001b[1;33m\u001b[0m\u001b[0m\n",
      "\u001b[1;32m~\\Anaconda3\\lib\\site-packages\\sklearn\\linear_model\\_ridge.py\u001b[0m in \u001b[0;36mfit\u001b[1;34m(self, X, y, sample_weight)\u001b[0m\n\u001b[0;32m   1476\u001b[0m         \u001b[1;32mfor\u001b[0m \u001b[0mi\u001b[0m\u001b[1;33m,\u001b[0m \u001b[0malpha\u001b[0m \u001b[1;32min\u001b[0m \u001b[0menumerate\u001b[0m\u001b[1;33m(\u001b[0m\u001b[0mself\u001b[0m\u001b[1;33m.\u001b[0m\u001b[0malphas\u001b[0m\u001b[1;33m)\u001b[0m\u001b[1;33m:\u001b[0m\u001b[1;33m\u001b[0m\u001b[1;33m\u001b[0m\u001b[0m\n\u001b[0;32m   1477\u001b[0m             G_inverse_diag, c = solve(\n\u001b[1;32m-> 1478\u001b[1;33m                 float(alpha), y, sqrt_sw, X_mean, *decomposition)\n\u001b[0m\u001b[0;32m   1479\u001b[0m             \u001b[1;32mif\u001b[0m \u001b[0merror\u001b[0m\u001b[1;33m:\u001b[0m\u001b[1;33m\u001b[0m\u001b[1;33m\u001b[0m\u001b[0m\n\u001b[0;32m   1480\u001b[0m                 \u001b[0msquared_errors\u001b[0m \u001b[1;33m=\u001b[0m \u001b[1;33m(\u001b[0m\u001b[0mc\u001b[0m \u001b[1;33m/\u001b[0m \u001b[0mG_inverse_diag\u001b[0m\u001b[1;33m)\u001b[0m \u001b[1;33m**\u001b[0m \u001b[1;36m2\u001b[0m\u001b[1;33m\u001b[0m\u001b[1;33m\u001b[0m\u001b[0m\n",
      "\u001b[1;32m~\\Anaconda3\\lib\\site-packages\\sklearn\\linear_model\\_ridge.py\u001b[0m in \u001b[0;36m_solve_svd_design_matrix\u001b[1;34m(self, alpha, y, sqrt_sw, X_mean, singvals_sq, U, UT_y)\u001b[0m\n\u001b[0;32m   1403\u001b[0m             \u001b[1;31m# cancel the regularization for the intercept\u001b[0m\u001b[1;33m\u001b[0m\u001b[1;33m\u001b[0m\u001b[1;33m\u001b[0m\u001b[0m\n\u001b[0;32m   1404\u001b[0m             \u001b[0mw\u001b[0m\u001b[1;33m[\u001b[0m\u001b[0mintercept_dim\u001b[0m\u001b[1;33m]\u001b[0m \u001b[1;33m=\u001b[0m \u001b[1;33m-\u001b[0m \u001b[1;33m(\u001b[0m\u001b[0malpha\u001b[0m \u001b[1;33m**\u001b[0m \u001b[1;33m-\u001b[0m\u001b[1;36m1\u001b[0m\u001b[1;33m)\u001b[0m\u001b[1;33m\u001b[0m\u001b[1;33m\u001b[0m\u001b[0m\n\u001b[1;32m-> 1405\u001b[1;33m         \u001b[0mc\u001b[0m \u001b[1;33m=\u001b[0m \u001b[0mnp\u001b[0m\u001b[1;33m.\u001b[0m\u001b[0mdot\u001b[0m\u001b[1;33m(\u001b[0m\u001b[0mU\u001b[0m\u001b[1;33m,\u001b[0m \u001b[0mself\u001b[0m\u001b[1;33m.\u001b[0m\u001b[0m_diag_dot\u001b[0m\u001b[1;33m(\u001b[0m\u001b[0mw\u001b[0m\u001b[1;33m,\u001b[0m \u001b[0mUT_y\u001b[0m\u001b[1;33m)\u001b[0m\u001b[1;33m)\u001b[0m \u001b[1;33m+\u001b[0m \u001b[1;33m(\u001b[0m\u001b[0malpha\u001b[0m \u001b[1;33m**\u001b[0m \u001b[1;33m-\u001b[0m\u001b[1;36m1\u001b[0m\u001b[1;33m)\u001b[0m \u001b[1;33m*\u001b[0m \u001b[0my\u001b[0m\u001b[1;33m\u001b[0m\u001b[1;33m\u001b[0m\u001b[0m\n\u001b[0m\u001b[0;32m   1406\u001b[0m         \u001b[0mG_inverse_diag\u001b[0m \u001b[1;33m=\u001b[0m \u001b[0mself\u001b[0m\u001b[1;33m.\u001b[0m\u001b[0m_decomp_diag\u001b[0m\u001b[1;33m(\u001b[0m\u001b[0mw\u001b[0m\u001b[1;33m,\u001b[0m \u001b[0mU\u001b[0m\u001b[1;33m)\u001b[0m \u001b[1;33m+\u001b[0m \u001b[1;33m(\u001b[0m\u001b[0malpha\u001b[0m \u001b[1;33m**\u001b[0m \u001b[1;33m-\u001b[0m\u001b[1;36m1\u001b[0m\u001b[1;33m)\u001b[0m\u001b[1;33m\u001b[0m\u001b[1;33m\u001b[0m\u001b[0m\n\u001b[0;32m   1407\u001b[0m         \u001b[1;32mif\u001b[0m \u001b[0mlen\u001b[0m\u001b[1;33m(\u001b[0m\u001b[0my\u001b[0m\u001b[1;33m.\u001b[0m\u001b[0mshape\u001b[0m\u001b[1;33m)\u001b[0m \u001b[1;33m!=\u001b[0m \u001b[1;36m1\u001b[0m\u001b[1;33m:\u001b[0m\u001b[1;33m\u001b[0m\u001b[1;33m\u001b[0m\u001b[0m\n",
      "\u001b[1;31mMemoryError\u001b[0m: Unable to allocate 293. MiB for an array with shape (16000, 2400) and data type float64"
     ]
    }
   ],
   "source": [
    "from Utils import mate_retrieval_score\n",
    "from sklearn.metrics import mean_squared_error as mse\n",
    "from sklearn import linear_model\n",
    "from tqdm import tqdm\n",
    "\n",
    "sample_size = 8000\n",
    "dimensions = [200, 400, 600, 800, 1000]\n",
    "\n",
    "lcc_scores = []\n",
    "\n",
    "for dimension in dimensions:\n",
    "    en = en_train_matrix[:sample_size ,:dimension] - np.mean(en_train_matrix[:sample_size ,:dimension], axis=0)\n",
    "    fr = fr_train_matrix[:sample_size ,:dimension] - np.mean(fr_train_matrix[:sample_size ,:dimension], axis=0)\n",
    "    zero_matrix = np.zeros((sample_size, dimension))\n",
    "    X1 = np.concatenate((en, zero_matrix), axis = 1)\n",
    "    X2 = np.concatenate((zero_matrix, fr), axis= 1)\n",
    "    X = np.concatenate((X1, X2), axis = 0)\n",
    "    Y1 = np.concatenate((en, fr), axis = 1)\n",
    "    Y2 = np.concatenate((en, fr), axis = 1)\n",
    "    Y = np.concatenate((Y1, Y2), axis = 0)\n",
    "\n",
    "    from sklearn import linear_model\n",
    "    from sklearn.decomposition import PCA\n",
    "    from sklearn.metrics import mean_squared_error as mse\n",
    "\n",
    "    print(\"fit linear model\")\n",
    "    reg = linear_model.RidgeCV(alphas=[1e-3, 1e-2, 1e-1, 1])\n",
    "    reg.fit(X,Y)\n",
    "    print(\"MSE: \"+str(mse(reg.predict(X), Y)))\n",
    "    print(\"apply PCA\")\n",
    "    pca = PCA(n_components= int(dimension))\n",
    "    pca.fit(reg.predict(X))\n",
    "    rrr = lambda X: np.matmul(pca.transform(reg.predict(X)), pca.components_)\n",
    "    lcc_encoders.append(rrr)\n",
    "    lin_encoding = lambda X: pca.transform(reg.predict(X))\n",
    "    print(mse(rrr(X), Y))\n",
    "    \n",
    "    #sample_size = len(en_docs_test)\n",
    "    en = en_test_matrix[: ,:dimension] - np.mean(en_train_matrix[:,:dimension], axis=0)\n",
    "    fr = fr_test_matrix[: ,:dimension] - np.mean(en_train_matrix[:,:dimension], axis=0)\n",
    "    zero_matrix = np.zeros((len(en_docs_test), dimension))\n",
    "\n",
    "    X1 = np.concatenate((en, zero_matrix), axis = 1)\n",
    "    X2 = np.concatenate((zero_matrix, fr), axis= 1)\n",
    "    X = np.concatenate((X1, X2), axis = 0)\n",
    "    \n",
    "    english_encodings_lcc = rrr(X1)\n",
    "    french_encodings_lcc = rrr(X2)\n",
    "    mr_score = mate_retrieval_score(english_encodings_lcc, french_encodings_lcc)\n",
    "    lcc_scores.append(mr_score)"
   ]
  },
  {
   "cell_type": "markdown",
   "metadata": {},
   "source": [
    "## 4.Training of Linear Concept Approximation with Regularization "
   ]
  },
  {
   "cell_type": "code",
   "execution_count": 59,
   "metadata": {},
   "outputs": [
    {
     "name": "stderr",
     "output_type": "stream",
     "text": [
      "100%|████████████████████████████████████████████████████████████████████████████████████| 5/5 [00:10<00:00,  2.09s/it]\n"
     ]
    }
   ],
   "source": [
    "from Utils import mate_retrieval_score\n",
    "from sklearn.metrics import mean_squared_error as mse\n",
    "from sklearn import linear_model\n",
    "from tqdm import tqdm\n",
    "\n",
    "sample_sizes = [8000]\n",
    "dimensions = [200, 400, 600, 800, 1000]\n",
    "\n",
    "lca_scores = []\n",
    "lca_losses = []\n",
    "for dimension in tqdm(dimensions):\n",
    "    dimension = int(dimension/2)\n",
    "    s_scores = []\n",
    "    s_losses = []\n",
    "    for sample_size in sample_sizes:\n",
    "        l1_to_l2_clf = linear_model.RidgeCV(alphas=[1e-5, 1e-4, 1e-3, 1e-2])\n",
    "        l2_to_l1_clf = linear_model.RidgeCV(alphas=[1e-5, 1e-4, 1e-3, 1e-2]) \n",
    "        \n",
    "        l1_to_l2_clf.fit(list(en_train_matrix[:sample_size ,:dimension]), list(fr_train_matrix[:sample_size ,:dimension]))\n",
    "        l2_to_l1_clf.fit(list(fr_train_matrix[:sample_size ,:dimension]), list(en_train_matrix[:sample_size ,:dimension]))  \n",
    "        \n",
    "        fake_fr = l1_to_l2_clf.predict(list(en_test_matrix[: ,:dimension]))\n",
    "        fake_en = l2_to_l1_clf.predict(list(fr_test_matrix[: ,:dimension]))\n",
    "        \n",
    "        merged_trans_vecs = np.concatenate((fake_en, fr_test_matrix[:,:dimension]), axis = 1)\n",
    "        real_vecs = np.concatenate((en_test_matrix[:,:dimension], fake_fr), axis = 1)\n",
    "        \n",
    "        score = mate_retrieval_score(merged_trans_vecs, real_vecs)\n",
    "        loss = mse(merged_trans_vecs, real_vecs)\n",
    "        s_losses.append(loss)\n",
    "        s_scores.append(score)\n",
    "        \n",
    "    lca_scores.append(s_scores)\n",
    "    lca_losses.append(s_losses)"
   ]
  },
  {
   "cell_type": "code",
   "execution_count": 60,
   "metadata": {},
   "outputs": [
    {
     "data": {
      "text/plain": [
       "<matplotlib.legend.Legend at 0x1a008b0cf48>"
      ]
     },
     "execution_count": 60,
     "metadata": {},
     "output_type": "execute_result"
    },
    {
     "data": {
      "image/png": "[encoded data removed]",
      "text/plain": [
       "<Figure size 432x288 with 1 Axes>"
      ]
     },
     "metadata": {
      "needs_background": "light"
     },
     "output_type": "display_data"
    }
   ],
   "source": [
    "import matplotlib.pyplot as plt\n",
    "plt.plot(dimensions, lcc_scores, '-o', label=\"lcc\")\n",
    "plt.plot(dimensions, lca_scores,'-o',label=\"lca\")\n",
    "plt.xlabel(\"Dimension of Cross-Lingual Embedding\")\n",
    "plt.ylabel(\"Mate Retrieval Score\")\n",
    "plt.title(\"Comparision of LCC and LCA\")\n",
    "plt.legend()"
   ]
  }
 ],
 "metadata": {
  "kernelspec": {
   "display_name": "Python 3",
   "language": "python",
   "name": "python3"
  },
  "language_info": {
   "codemirror_mode": {
    "name": "ipython",
    "version": 3
   },
   "file_extension": ".py",
   "mimetype": "text/x-python",
   "name": "python",
   "nbconvert_exporter": "python",
   "pygments_lexer": "ipython3",
   "version": "3.7.6"
  }
 },
 "nbformat": 4,
 "nbformat_minor": 4
}
