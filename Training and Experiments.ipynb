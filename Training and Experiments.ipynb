{
 "cells": [
  {
   "cell_type": "markdown",
   "metadata": {},
   "source": [
    "# An Investigation of Linear Concept Approximation\n",
    "\n",
    "This Notebook is a part of the Thesis Project: Learning Multilingual Document Representations.\n",
    "(Marc Lenz, 2021)\n",
    "\n",
    "\n",
    "** **"
   ]
  },
  {
   "cell_type": "markdown",
   "metadata": {},
   "source": [
    "##  1. Load Preprocessed Dataset"
   ]
  },
  {
   "cell_type": "markdown",
   "metadata": {},
   "source": [
    "The original JRC-Arquis dataset have been preprocessed before. \n",
    "The aligned documents have been saved in two seperate csv files. \n",
    "For details of the preprocessing, check: read_and_preprocess.py"
   ]
  },
  {
   "cell_type": "code",
   "execution_count": 1,
   "metadata": {},
   "outputs": [
    {
     "name": "stdout",
     "output_type": "stream",
     "text": [
      "Number of training Documents: 8759\n",
      "Number of test Documents: 974\n"
     ]
    }
   ],
   "source": [
    "from Utils import read_docs\n",
    "from sklearn.model_selection import train_test_split\n",
    "\n",
    "# parse an xml file by name\n",
    "french_docs, english_docs = read_docs('Data/jrq_aligned_10000_fr.csv', 'Data/jrq_aligned_10000_en.csv')\n",
    "fr_docs_train, fr_docs_test, en_docs_train, en_docs_test = train_test_split(french_docs, english_docs, \n",
    "                                                                            test_size=0.1, random_state = 42)\n",
    "\n",
    "print(\"Number of training Documents: \"+ str(len(fr_docs_train)))\n",
    "print(\"Number of test Documents: \"+ str(len(fr_docs_test)))"
   ]
  },
  {
   "cell_type": "markdown",
   "metadata": {},
   "source": [
    "## 2.Training of Linear Concept Approximation\n",
    "- Train LSI for different sample sizes and dimensions\n"
   ]
  },
  {
   "cell_type": "code",
   "execution_count": 2,
   "metadata": {},
   "outputs": [],
   "source": [
    "from Utils import dict_combinations\n",
    "from Utils import Vector_Lsi_Model, LCA_Model\n",
    "import random \n",
    "\n",
    "sample_sizes = [1000, 2000, 4000, 8000]\n",
    "dimensions = [50, 200, 500, 800]\n",
    "\n",
    "#Creates List of Parameter Dictonaries\n",
    "lsi_model_params = dict_combinations({\"sample_size\": sample_sizes, \n",
    "                                      \"dimension\" : dimensions})\n",
    "\n",
    "#Train LSI Models with the given parameter list\n",
    "lca_models = []\n",
    "for param in lsi_model_params:\n",
    "    \n",
    "    #Get random sample\n",
    "    sample_size = param[\"sample_size\"]\n",
    "    training_docs = list(zip(en_docs_train, fr_docs_train))\n",
    "    random.shuffle(training_docs)\n",
    "    en_docs_train_shuffled, fr_docs_train_shuffled = zip(*training_docs)\n",
    "    sample_en = en_docs_train_shuffled[:sample_size]\n",
    "    sample_fr = fr_docs_train_shuffled[:sample_size]\n",
    "    \n",
    "    #Now train models\n",
    "    lsi_model_en = Vector_Lsi_Model(sample_en, dimension = param[\"dimension\"])\n",
    "    lsi_model_fr = Vector_Lsi_Model(sample_fr, dimension = param[\"dimension\"])\n",
    "    lca = LCA_Model(sample_en, sample_fr, lsi_model_en, lsi_model_fr)\n",
    "    lca_models.append(lca)"
   ]
  },
  {
   "cell_type": "markdown",
   "metadata": {},
   "source": [
    "## Evaluation\n",
    "- Train LSI for different sample sizes and dimensions"
   ]
  },
  {
   "cell_type": "code",
   "execution_count": 3,
   "metadata": {},
   "outputs": [],
   "source": [
    "from Utils import mate_retrieval_score\n",
    "\n",
    "scores = []\n",
    "for lca_model in lca_models:\n",
    "    env = lca_model.create_embeddings(en_docs_test, language= \"l1\")\n",
    "    frv = lca_model.create_embeddings(fr_docs_test, language= \"l2\")\n",
    "    score = mate_retrieval_score(env, frv)\n",
    "    scores.append(score)"
   ]
  },
  {
   "cell_type": "code",
   "execution_count": 4,
   "metadata": {},
   "outputs": [
    {
     "data": {
      "image/png": "[encoded data removed]",
      "text/plain": [
       "<Figure size 432x288 with 2 Axes>"
      ]
     },
     "metadata": {
      "needs_background": "light"
     },
     "output_type": "display_data"
    }
   ],
   "source": [
    "import numpy as np\n",
    "import seaborn as sns\n",
    "\n",
    "\n",
    "score_matrix = np.asarray(scores).reshape(len(sample_sizes),len(dimensions))\n",
    "ax = sns.heatmap(score_matrix, vmin=0.3)"
   ]
  },
  {
   "cell_type": "code",
   "execution_count": 5,
   "metadata": {
    "scrolled": true
   },
   "outputs": [
    {
     "data": {
      "text/plain": [
       "<matplotlib.legend.Legend at 0x2bad8cac848>"
      ]
     },
     "execution_count": 5,
     "metadata": {},
     "output_type": "execute_result"
    },
    {
     "data": {
      "image/png": "[encoded data removed]",
      "text/plain": [
       "<Figure size 432x288 with 1 Axes>"
      ]
     },
     "metadata": {
      "needs_background": "light"
     },
     "output_type": "display_data"
    }
   ],
   "source": [
    "import matplotlib.pyplot as plt\n",
    "\n",
    "for k in range(len(sample_sizes)):\n",
    "    plt.plot(dimensions,score_matrix[k], label=\"samples: \"+str(sample_sizes[k]))\n",
    "plt.xlabel(\"Dimension\")\n",
    "plt.ylabel(\"Mate Retrieval Score\")\n",
    "plt.ylim((0.7,1))\n",
    "plt.legend()"
   ]
  },
  {
   "cell_type": "markdown",
   "metadata": {},
   "source": [
    "sdlkfjdlsjf"
   ]
  }
 ],
 "metadata": {
  "kernelspec": {
   "display_name": "Python 3",
   "language": "python",
   "name": "python3"
  },
  "language_info": {
   "codemirror_mode": {
    "name": "ipython",
    "version": 3
   },
   "file_extension": ".py",
   "mimetype": "text/x-python",
   "name": "python",
   "nbconvert_exporter": "python",
   "pygments_lexer": "ipython3",
   "version": "3.7.6"
  }
 },
 "nbformat": 4,
 "nbformat_minor": 4
}
